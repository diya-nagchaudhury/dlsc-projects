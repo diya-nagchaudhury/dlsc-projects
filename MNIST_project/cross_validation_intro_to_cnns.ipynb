{
 "cells": [
  {
   "cell_type": "markdown",
   "metadata": {},
   "source": [
    "The first step involves importing essential Python libraries like:\n",
    "\n",
    "NumPy and Pandas for data manipulation\n",
    "\n",
    "Matplotlib or Seaborn for visualizing data\n",
    "\n",
    "Torch and Torchvision for building and training CNN models\n",
    "\n",
    "There may also be specific data transformation and normalization functions, often in torchvision.transforms."
   ]
  },
  {
   "cell_type": "code",
   "execution_count": 1,
   "metadata": {},
   "outputs": [],
   "source": [
    "import os\n",
    "import torch\n",
    "from torch import nn\n",
    "from torchvision.datasets import MNIST\n",
    "from torch.utils.data import DataLoader, ConcatDataset, SubsetRandomSampler\n",
    "from torchvision import transforms, datasets\n",
    "\n",
    "from sklearn.model_selection import KFold\n",
    "import matplotlib.pyplot as plt"
   ]
  },
  {
   "cell_type": "markdown",
   "metadata": {},
   "source": [
    "Loading and Preparing the Dataset:\n",
    "\n",
    "Typically, the tutorial uses a pre-existing dataset like MNIST or CIFAR-10, which is available in torchvision.datasets.\n",
    "\n",
    "The data is split into training and test sets.\n",
    "\n",
    "Data preprocessing: This step involves normalizing images to make the network training more efficient and often includes resizing, scaling, and converting images to tensors."
   ]
  },
  {
   "cell_type": "markdown",
   "metadata": {},
   "source": [
    "Cross-Validation Setup\n",
    "\n",
    "Cross-validation is a method to improve the reliability of model evaluation. Here's how it works in the tutorial:\n",
    "\n",
    "K-Fold Cross-Validation: The data is split into k subsets or \"folds.\" Each fold is used once as a validation set while the remaining k-1 folds form the training set. This is implemented using PyTorch’s data utilities or sklearn.model_selection.KFold.\n",
    "\n",
    "Purpose: Cross-validation ensures that the model's performance is consistent and not dependent on a single train-test split."
   ]
  },
  {
   "cell_type": "code",
   "execution_count": 2,
   "metadata": {},
   "outputs": [],
   "source": [
    "# Function to display examples from a dataset\n",
    "def show_examples(dataset, num_examples=5):\n",
    "    fig, axes = plt.subplots(1, num_examples, figsize=(12, 3))\n",
    "\n",
    "    for i in range(num_examples):\n",
    "        # Get a random example\n",
    "        index = torch.randint(len(dataset), size=(1,)).item()\n",
    "        image, label = dataset[index]\n",
    "\n",
    "        # Display the image\n",
    "        axes[i].imshow(image.squeeze(), cmap='gray')\n",
    "        axes[i].set_title(f\"Label: {label}\")\n",
    "        axes[i].axis('off')\n",
    "\n",
    "    plt.show()"
   ]
  },
  {
   "cell_type": "code",
   "execution_count": 3,
   "metadata": {},
   "outputs": [
    {
     "name": "stdout",
     "output_type": "stream",
     "text": [
      "Downloading http://yann.lecun.com/exdb/mnist/train-images-idx3-ubyte.gz\n",
      "Failed to download (trying next):\n",
      "<urlopen error [SSL: CERTIFICATE_VERIFY_FAILED] certificate verify failed: certificate has expired (_ssl.c:1007)>\n",
      "\n",
      "Downloading https://ossci-datasets.s3.amazonaws.com/mnist/train-images-idx3-ubyte.gz\n",
      "Downloading https://ossci-datasets.s3.amazonaws.com/mnist/train-images-idx3-ubyte.gz to /home/diya/Projects/DLSC-projects/notebooks/MNIST/raw/train-images-idx3-ubyte.gz\n"
     ]
    },
    {
     "name": "stderr",
     "output_type": "stream",
     "text": [
      "100%|██████████| 9912422/9912422 [00:11<00:00, 886627.49it/s] \n"
     ]
    },
    {
     "name": "stdout",
     "output_type": "stream",
     "text": [
      "Extracting /home/diya/Projects/DLSC-projects/notebooks/MNIST/raw/train-images-idx3-ubyte.gz to /home/diya/Projects/DLSC-projects/notebooks/MNIST/raw\n",
      "\n",
      "Downloading http://yann.lecun.com/exdb/mnist/train-labels-idx1-ubyte.gz\n",
      "Failed to download (trying next):\n",
      "<urlopen error [SSL: CERTIFICATE_VERIFY_FAILED] certificate verify failed: certificate has expired (_ssl.c:1007)>\n",
      "\n",
      "Downloading https://ossci-datasets.s3.amazonaws.com/mnist/train-labels-idx1-ubyte.gz\n",
      "Downloading https://ossci-datasets.s3.amazonaws.com/mnist/train-labels-idx1-ubyte.gz to /home/diya/Projects/DLSC-projects/notebooks/MNIST/raw/train-labels-idx1-ubyte.gz\n"
     ]
    },
    {
     "name": "stderr",
     "output_type": "stream",
     "text": [
      "100%|██████████| 28881/28881 [00:00<00:00, 136069.45it/s]\n"
     ]
    },
    {
     "name": "stdout",
     "output_type": "stream",
     "text": [
      "Extracting /home/diya/Projects/DLSC-projects/notebooks/MNIST/raw/train-labels-idx1-ubyte.gz to /home/diya/Projects/DLSC-projects/notebooks/MNIST/raw\n",
      "\n",
      "Downloading http://yann.lecun.com/exdb/mnist/t10k-images-idx3-ubyte.gz\n",
      "Failed to download (trying next):\n",
      "<urlopen error [SSL: CERTIFICATE_VERIFY_FAILED] certificate verify failed: certificate has expired (_ssl.c:1007)>\n",
      "\n",
      "Downloading https://ossci-datasets.s3.amazonaws.com/mnist/t10k-images-idx3-ubyte.gz\n",
      "Downloading https://ossci-datasets.s3.amazonaws.com/mnist/t10k-images-idx3-ubyte.gz to /home/diya/Projects/DLSC-projects/notebooks/MNIST/raw/t10k-images-idx3-ubyte.gz\n"
     ]
    },
    {
     "name": "stderr",
     "output_type": "stream",
     "text": [
      "100%|██████████| 1648877/1648877 [00:01<00:00, 1128469.60it/s]\n"
     ]
    },
    {
     "name": "stdout",
     "output_type": "stream",
     "text": [
      "Extracting /home/diya/Projects/DLSC-projects/notebooks/MNIST/raw/t10k-images-idx3-ubyte.gz to /home/diya/Projects/DLSC-projects/notebooks/MNIST/raw\n",
      "\n",
      "Downloading http://yann.lecun.com/exdb/mnist/t10k-labels-idx1-ubyte.gz\n",
      "Failed to download (trying next):\n",
      "<urlopen error [SSL: CERTIFICATE_VERIFY_FAILED] certificate verify failed: certificate has expired (_ssl.c:1007)>\n",
      "\n",
      "Downloading https://ossci-datasets.s3.amazonaws.com/mnist/t10k-labels-idx1-ubyte.gz\n",
      "Downloading https://ossci-datasets.s3.amazonaws.com/mnist/t10k-labels-idx1-ubyte.gz to /home/diya/Projects/DLSC-projects/notebooks/MNIST/raw/t10k-labels-idx1-ubyte.gz\n"
     ]
    },
    {
     "name": "stderr",
     "output_type": "stream",
     "text": [
      "100%|██████████| 4542/4542 [00:00<00:00, 8116970.08it/s]"
     ]
    },
    {
     "name": "stdout",
     "output_type": "stream",
     "text": [
      "Extracting /home/diya/Projects/DLSC-projects/notebooks/MNIST/raw/t10k-labels-idx1-ubyte.gz to /home/diya/Projects/DLSC-projects/notebooks/MNIST/raw\n",
      "\n",
      "Examples from the Training Set:\n"
     ]
    },
    {
     "name": "stderr",
     "output_type": "stream",
     "text": [
      "\n"
     ]
    },
    {
     "data": {
      "image/png": "[encoded data removed]",
      "text/plain": [
       "<Figure size 1200x300 with 5 Axes>"
      ]
     },
     "metadata": {},
     "output_type": "display_data"
    },
    {
     "name": "stdout",
     "output_type": "stream",
     "text": [
      "\n",
      "Examples from the Test Set:\n"
     ]
    },
    {
     "data": {
      "image/png": "[encoded data removed]",
      "text/plain": [
       "<Figure size 1200x300 with 5 Axes>"
      ]
     },
     "metadata": {},
     "output_type": "display_data"
    }
   ],
   "source": [
    "# Define the MNIST datasets.\n",
    "dataset_train_part = MNIST(\n",
    "    os.getcwd(), download=True, transform=transforms.ToTensor(), train=True)\n",
    "dataset_test_part = MNIST(\n",
    "    os.getcwd(), download=True, transform=transforms.ToTensor(), train=False)\n",
    "\n",
    "\n",
    "# Display examples from the training set\n",
    "print(\"Examples from the Training Set:\")\n",
    "show_examples(dataset_train_part)\n",
    "\n",
    "# Display examples from the test set\n",
    "print(\"\\nExamples from the Test Set:\")\n",
    "show_examples(dataset_test_part)"
   ]
  },
  {
   "cell_type": "markdown",
   "metadata": {},
   "source": [
    "Defining the CNN Architecture\n",
    "\n",
    "The tutorial introduces a basic CNN model, which generally includes:\n",
    "\n",
    "Convolutional Layers: Extract spatial features from images. Layers often start with fewer filters and gradually increase in number.\n",
    "\n",
    "Activation Functions: Usually ReLU, to introduce non-linearity.\n",
    "\n",
    "Pooling Layers: Often MaxPooling, to reduce dimensionality and computational load.\n",
    "\n",
    "Fully Connected Layers: These come after convolutional layers to learn high-level representations for classification.\n",
    "\n",
    "Output Layer: For classification, it’s often a Softmax or Sigmoid layer to give a probability distribution over classes."
   ]
  },
  {
   "cell_type": "code",
   "execution_count": 4,
   "metadata": {},
   "outputs": [],
   "source": [
    "def reset_weights(m):\n",
    "  '''\n",
    "    Try resetting model weights to avoid\n",
    "    weight leakage.\n",
    "  '''\n",
    "  for layer in m.children():\n",
    "   if hasattr(layer, 'reset_parameters'):\n",
    "    print(f'Reset trainable parameters of layer = {layer}')\n",
    "    layer.reset_parameters()\n",
    "\n",
    "class SimpleConvNet(nn.Module):\n",
    "  '''\n",
    "    Simple Convolutional Neural Network\n",
    "  '''\n",
    "  def __init__(self):\n",
    "    super().__init__()\n",
    "    self.layers = nn.Sequential(\n",
    "      nn.Conv2d(1, 10, kernel_size=3),\n",
    "      nn.ReLU(),\n",
    "      nn.Flatten(),\n",
    "      nn.Linear(26 * 26 * 10, 50),\n",
    "      nn.ReLU(),\n",
    "      nn.Linear(50, 20),\n",
    "      nn.ReLU(),\n",
    "      nn.Linear(20, 10)\n",
    "    )\n",
    "\n",
    "\n",
    "  def forward(self, x):\n",
    "    '''Forward pass'''\n",
    "    return self.layers(x)"
   ]
  },
  {
   "cell_type": "markdown",
   "metadata": {},
   "source": [
    "Training the Model\n",
    "\n",
    "Loss Function: Cross-Entropy Loss is common for classification tasks.\n",
    "\n",
    "Optimizer: Stochastic Gradient Descent (SGD) or Adam optimizes the model parameters by minimizing the loss.\n",
    "\n",
    "The training loop iterates through each batch of the training data, calculating the forward and backward passes, and updating the weights."
   ]
  },
  {
   "cell_type": "code",
   "execution_count": 5,
   "metadata": {},
   "outputs": [],
   "source": [
    "def train_model(network, trainloader, optimizer, loss_function, num_epochs):\n",
    "    # Function to perform the training.\n",
    "    for epoch in range(num_epochs):\n",
    "        print(f'Starting epoch {epoch + 1}')\n",
    "        current_loss = 0.0\n",
    "\n",
    "        for i, data in enumerate(trainloader, 0):\n",
    "            inputs, targets = data\n",
    "            optimizer.zero_grad()\n",
    "            outputs = network(inputs)\n",
    "            loss = loss_function(outputs, targets)\n",
    "            loss.backward()\n",
    "            optimizer.step()\n",
    "            current_loss += loss.item()\n",
    "\n",
    "            if i % 500 == 499:\n",
    "                print(\n",
    "                    'Loss after mini-batch %5d: %.3f' %\n",
    "                     (i + 1, current_loss / 500)\n",
    "                )\n",
    "                current_loss = 0.0"
   ]
  },
  {
   "cell_type": "markdown",
   "metadata": {},
   "source": [
    "Testing and Results\n",
    "\n",
    "After training and validation, the model is finally evaluated on the test set to report its performance.\n",
    "\n",
    "The tutorial typically visualizes results, like plotting a confusion matrix or showing sample predictions."
   ]
  },
  {
   "cell_type": "code",
   "execution_count": 6,
   "metadata": {},
   "outputs": [],
   "source": [
    "def test_model(network, testloader):\n",
    "   # Function to test the model on the test set for a fold\n",
    "    correct, total = 0, 0\n",
    "\n",
    "    with torch.no_grad():\n",
    "        for i, data in enumerate(testloader, 0):\n",
    "            inputs, targets = data\n",
    "            outputs = network(inputs)\n",
    "            _, predicted = torch.max(outputs.data, 1)\n",
    "            total += targets.size(0)\n",
    "            correct += (predicted == targets).sum().item()\n",
    "\n",
    "    accuracy = 100.0 * correct / total\n",
    "    print(f'Accuracy: {accuracy:.2f}%')\n",
    "    return accuracy\n"
   ]
  },
  {
   "cell_type": "markdown",
   "metadata": {},
   "source": [
    "Validation Process\n",
    "\n",
    "Evaluation Mode: The model switches to evaluation mode to freeze parameters like dropout, which should be inactive during validation.\n",
    "\n",
    "Metric Calculation: During validation, the model calculates accuracy or other metrics to assess performance on unseen data.\n",
    "\n",
    "Cross-Validation Cycle: This process repeats for each fold in cross-validation, resulting in an averaged metric score that represents the model’s overall performance."
   ]
  },
  {
   "cell_type": "code",
   "execution_count": 7,
   "metadata": {},
   "outputs": [],
   "source": [
    "def k_fold_cross_validation(k_folds, num_epochs, loss_function):\n",
    "    # Function to perform k-fold cross-validation\n",
    "    results = {}\n",
    "    dataset = ConcatDataset([dataset_train_part, dataset_test_part])\n",
    "    kfold = KFold(n_splits=k_folds, shuffle=True)\n",
    "\n",
    "    for fold, (train_ids, test_ids) in enumerate(kfold.split(dataset)):\n",
    "        print(f'FOLD {fold}')\n",
    "        print('--------------------------------')\n",
    "\n",
    "        train_subsampler = SubsetRandomSampler(train_ids)\n",
    "        test_subsampler = SubsetRandomSampler(test_ids)\n",
    "\n",
    "        trainloader = DataLoader(\n",
    "            dataset, batch_size=10, sampler=train_subsampler)\n",
    "        testloader = DataLoader(\n",
    "            dataset, batch_size=10, sampler=test_subsampler)\n",
    "\n",
    "        network = SimpleConvNet()\n",
    "        network.apply(reset_weights)\n",
    "        optimizer = torch.optim.Adam(network.parameters(), lr=1e-4)\n",
    "\n",
    "        train_model(network, trainloader, optimizer, loss_function, num_epochs)\n",
    "\n",
    "        print('Training process has finished. Saving trained model.')\n",
    "        print('Starting testing')\n",
    "\n",
    "        save_path = f'./model-fold-{fold}.pth'\n",
    "        torch.save(network.state_dict(), save_path)\n",
    "\n",
    "        accuracy = test_model(network, testloader)\n",
    "        results[fold] = accuracy\n",
    "        print('--------------------------------')\n",
    "\n",
    "    return results\n"
   ]
  },
  {
   "cell_type": "code",
   "execution_count": 8,
   "metadata": {},
   "outputs": [],
   "source": [
    "# Function to print k-fold cross-validation results\n",
    "def print_results(results):\n",
    "    print(f'K-FOLD CROSS VALIDATION RESULTS FOR {len(results)} FOLDS')\n",
    "    print('--------------------------------')\n",
    "\n",
    "    total_accuracy = sum(results.values())\n",
    "    average_accuracy = total_accuracy / len(results)\n",
    "\n",
    "    for key, value in results.items():\n",
    "        print(f'Fold {key}: {value:.2f}%')\n",
    "\n",
    "    print(f'Average: {average_accuracy:.2f}%')"
   ]
  },
  {
   "cell_type": "code",
   "execution_count": 9,
   "metadata": {},
   "outputs": [],
   "source": [
    "# Main function\n",
    "def main():\n",
    "    k_folds = 5\n",
    "    num_epochs = 1\n",
    "    loss_function = nn.CrossEntropyLoss()\n",
    "\n",
    "    results = k_fold_cross_validation(k_folds, num_epochs, loss_function)\n",
    "    print_results(results)"
   ]
  },
  {
   "cell_type": "code",
   "execution_count": 10,
   "metadata": {},
   "outputs": [
    {
     "name": "stdout",
     "output_type": "stream",
     "text": [
      "FOLD 0\n",
      "--------------------------------\n",
      "Reset trainable parameters of layer = Conv2d(1, 10, kernel_size=(3, 3), stride=(1, 1))\n",
      "Reset trainable parameters of layer = Linear(in_features=6760, out_features=50, bias=True)\n",
      "Reset trainable parameters of layer = Linear(in_features=50, out_features=20, bias=True)\n",
      "Reset trainable parameters of layer = Linear(in_features=20, out_features=10, bias=True)\n",
      "Starting epoch 1\n",
      "Loss after mini-batch   500: 1.614\n",
      "Loss after mini-batch  1000: 0.715\n",
      "Loss after mini-batch  1500: 0.516\n",
      "Loss after mini-batch  2000: 0.445\n",
      "Loss after mini-batch  2500: 0.416\n",
      "Loss after mini-batch  3000: 0.382\n",
      "Loss after mini-batch  3500: 0.367\n",
      "Loss after mini-batch  4000: 0.315\n",
      "Loss after mini-batch  4500: 0.312\n",
      "Loss after mini-batch  5000: 0.309\n",
      "Loss after mini-batch  5500: 0.298\n",
      "Training process has finished. Saving trained model.\n",
      "Starting testing\n",
      "Accuracy: 92.02%\n",
      "--------------------------------\n",
      "FOLD 1\n",
      "--------------------------------\n",
      "Reset trainable parameters of layer = Conv2d(1, 10, kernel_size=(3, 3), stride=(1, 1))\n",
      "Reset trainable parameters of layer = Linear(in_features=6760, out_features=50, bias=True)\n",
      "Reset trainable parameters of layer = Linear(in_features=50, out_features=20, bias=True)\n",
      "Reset trainable parameters of layer = Linear(in_features=20, out_features=10, bias=True)\n",
      "Starting epoch 1\n",
      "Loss after mini-batch   500: 1.668\n",
      "Loss after mini-batch  1000: 0.644\n",
      "Loss after mini-batch  1500: 0.450\n",
      "Loss after mini-batch  2000: 0.383\n",
      "Loss after mini-batch  2500: 0.378\n",
      "Loss after mini-batch  3000: 0.346\n",
      "Loss after mini-batch  3500: 0.313\n",
      "Loss after mini-batch  4000: 0.298\n",
      "Loss after mini-batch  4500: 0.276\n",
      "Loss after mini-batch  5000: 0.281\n",
      "Loss after mini-batch  5500: 0.258\n",
      "Training process has finished. Saving trained model.\n",
      "Starting testing\n",
      "Accuracy: 92.13%\n",
      "--------------------------------\n",
      "FOLD 2\n",
      "--------------------------------\n",
      "Reset trainable parameters of layer = Conv2d(1, 10, kernel_size=(3, 3), stride=(1, 1))\n",
      "Reset trainable parameters of layer = Linear(in_features=6760, out_features=50, bias=True)\n",
      "Reset trainable parameters of layer = Linear(in_features=50, out_features=20, bias=True)\n",
      "Reset trainable parameters of layer = Linear(in_features=20, out_features=10, bias=True)\n",
      "Starting epoch 1\n",
      "Loss after mini-batch   500: 1.769\n",
      "Loss after mini-batch  1000: 0.836\n",
      "Loss after mini-batch  1500: 0.566\n",
      "Loss after mini-batch  2000: 0.483\n",
      "Loss after mini-batch  2500: 0.418\n",
      "Loss after mini-batch  3000: 0.400\n",
      "Loss after mini-batch  3500: 0.370\n",
      "Loss after mini-batch  4000: 0.365\n",
      "Loss after mini-batch  4500: 0.334\n",
      "Loss after mini-batch  5000: 0.315\n",
      "Loss after mini-batch  5500: 0.302\n",
      "Training process has finished. Saving trained model.\n",
      "Starting testing\n",
      "Accuracy: 91.90%\n",
      "--------------------------------\n",
      "FOLD 3\n",
      "--------------------------------\n",
      "Reset trainable parameters of layer = Conv2d(1, 10, kernel_size=(3, 3), stride=(1, 1))\n",
      "Reset trainable parameters of layer = Linear(in_features=6760, out_features=50, bias=True)\n",
      "Reset trainable parameters of layer = Linear(in_features=50, out_features=20, bias=True)\n",
      "Reset trainable parameters of layer = Linear(in_features=20, out_features=10, bias=True)\n",
      "Starting epoch 1\n",
      "Loss after mini-batch   500: 1.781\n",
      "Loss after mini-batch  1000: 0.723\n",
      "Loss after mini-batch  1500: 0.464\n",
      "Loss after mini-batch  2000: 0.386\n",
      "Loss after mini-batch  2500: 0.356\n",
      "Loss after mini-batch  3000: 0.315\n",
      "Loss after mini-batch  3500: 0.270\n",
      "Loss after mini-batch  4000: 0.267\n",
      "Loss after mini-batch  4500: 0.249\n",
      "Loss after mini-batch  5000: 0.213\n",
      "Loss after mini-batch  5500: 0.243\n",
      "Training process has finished. Saving trained model.\n",
      "Starting testing\n",
      "Accuracy: 93.47%\n",
      "--------------------------------\n",
      "FOLD 4\n",
      "--------------------------------\n",
      "Reset trainable parameters of layer = Conv2d(1, 10, kernel_size=(3, 3), stride=(1, 1))\n",
      "Reset trainable parameters of layer = Linear(in_features=6760, out_features=50, bias=True)\n",
      "Reset trainable parameters of layer = Linear(in_features=50, out_features=20, bias=True)\n",
      "Reset trainable parameters of layer = Linear(in_features=20, out_features=10, bias=True)\n",
      "Starting epoch 1\n",
      "Loss after mini-batch   500: 1.848\n",
      "Loss after mini-batch  1000: 0.775\n",
      "Loss after mini-batch  1500: 0.474\n",
      "Loss after mini-batch  2000: 0.394\n",
      "Loss after mini-batch  2500: 0.369\n",
      "Loss after mini-batch  3000: 0.331\n",
      "Loss after mini-batch  3500: 0.307\n",
      "Loss after mini-batch  4000: 0.297\n",
      "Loss after mini-batch  4500: 0.288\n",
      "Loss after mini-batch  5000: 0.289\n",
      "Loss after mini-batch  5500: 0.259\n",
      "Training process has finished. Saving trained model.\n",
      "Starting testing\n",
      "Accuracy: 91.49%\n",
      "--------------------------------\n",
      "K-FOLD CROSS VALIDATION RESULTS FOR 5 FOLDS\n",
      "--------------------------------\n",
      "Fold 0: 92.02%\n",
      "Fold 1: 92.13%\n",
      "Fold 2: 91.90%\n",
      "Fold 3: 93.47%\n",
      "Fold 4: 91.49%\n",
      "Average: 92.20%\n"
     ]
    }
   ],
   "source": [
    "main()"
   ]
  },
  {
   "cell_type": "markdown",
   "metadata": {},
   "source": [
    "The purpose of using cross-validation is to ensure robust model evaluation.\n",
    "\n",
    "CNNs excel at image tasks due to their hierarchical feature extraction.\n",
    "\n",
    "Hands-on experimentation with layers, loss functions, and optimizers gives insight into how CNN architectures work in practice."
   ]
  }
 ],
 "metadata": {
  "kernelspec": {
   "display_name": "flame",
   "language": "python",
   "name": "python3"
  },
  "language_info": {
   "codemirror_mode": {
    "name": "ipython",
    "version": 3
   },
   "file_extension": ".py",
   "mimetype": "text/x-python",
   "name": "python",
   "nbconvert_exporter": "python",
   "pygments_lexer": "ipython3",
   "version": "3.10.12"
  }
 },
 "nbformat": 4,
 "nbformat_minor": 2
}
